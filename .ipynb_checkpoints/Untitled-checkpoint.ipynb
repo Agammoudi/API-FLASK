{
 "cells": [
  {
   "cell_type": "markdown",
   "id": "f6a3856e-a914-4447-b3d5-05739c55a25e",
   "metadata": {},
   "source": [
    "#monpremiercode"
   ]
  },
  {
   "cell_type": "code",
   "execution_count": 1,
   "id": "7f174596-0a0e-462e-8400-e2ee5c54e582",
   "metadata": {},
   "outputs": [
    {
     "name": "stdout",
     "output_type": "stream",
     "text": [
      "Nom de l'équipe : Real Madrid\n",
      "Nom du joueur portant le numéro 5 : Bellingham\n"
     ]
    }
   ],
   "source": [
    "equipe = \"Real Madrid\"\n",
    "type_sport = \"football\"\n",
    "nombre_joueurs = 11\n",
    "numero_joueur_5 = \"Bellingham\"\n",
    "\n",
    "print(\"Nom de l'équipe :\", equipe)\n",
    "print(\"Nom du joueur portant le numéro 5 :\", numero_joueur_5)"
   ]
  },
  {
   "cell_type": "code",
   "execution_count": null,
   "id": "ae3957cc-0939-48b7-a634-7efdbf485a13",
   "metadata": {},
   "outputs": [],
   "source": []
  }
 ],
 "metadata": {
  "kernelspec": {
   "display_name": "Python 3 (ipykernel)",
   "language": "python",
   "name": "python3"
  },
  "language_info": {
   "codemirror_mode": {
    "name": "ipython",
    "version": 3
   },
   "file_extension": ".py",
   "mimetype": "text/x-python",
   "name": "python",
   "nbconvert_exporter": "python",
   "pygments_lexer": "ipython3",
   "version": "3.8.19"
  }
 },
 "nbformat": 4,
 "nbformat_minor": 5
}
